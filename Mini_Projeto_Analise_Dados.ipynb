{
 "cells": [
  {
   "cell_type": "markdown",
   "id": "87b34690",
   "metadata": {},
   "source": [
    "# 📊 Mini Projeto de Análise de Dados com Python\n",
    "\n",
    "## Objetivo\n",
    "\n",
    "Neste notebook, realizamos uma análise exploratória com base em três fontes de dados de uma empresa fictícia de prestação de serviços.\n",
    "\n",
    "A proposta é aplicar conhecimentos fundamentais de **pandas**, análise de dados e visualização, com foco em simular atividades típicas de um analista de dados em início de carreira. Os objetivos incluem:\n",
    "\n",
    "- Avaliar a folha salarial da empresa\n",
    "- Calcular o faturamento com contratos\n",
    "- Entender a produtividade das áreas e colaboradores\n",
    "- Identificar o ticket médio dos serviços prestados\n",
    "\n",
    "Este material foi estruturado com linguagem clara e comentários no código, com o objetivo de ser acessível tanto para profissionais da área quanto para recrutadores e gestores que possam avaliar meu perfil.\n"
   ]
  },
  {
   "cell_type": "code",
   "execution_count": 1,
   "id": "f402d064",
   "metadata": {},
   "outputs": [
    {
     "data": {
      "text/html": [
       "<div>\n",
       "<style scoped>\n",
       "    .dataframe tbody tr th:only-of-type {\n",
       "        vertical-align: middle;\n",
       "    }\n",
       "\n",
       "    .dataframe tbody tr th {\n",
       "        vertical-align: top;\n",
       "    }\n",
       "\n",
       "    .dataframe thead th {\n",
       "        text-align: right;\n",
       "    }\n",
       "</style>\n",
       "<table border=\"1\" class=\"dataframe\">\n",
       "  <thead>\n",
       "    <tr style=\"text-align: right;\">\n",
       "      <th></th>\n",
       "      <th>ID Funcionário</th>\n",
       "      <th>Nome Completo</th>\n",
       "      <th>Salario Base</th>\n",
       "      <th>Impostos</th>\n",
       "      <th>Beneficios</th>\n",
       "      <th>VT</th>\n",
       "      <th>VR</th>\n",
       "      <th>Area</th>\n",
       "    </tr>\n",
       "  </thead>\n",
       "  <tbody>\n",
       "    <tr>\n",
       "      <th>0</th>\n",
       "      <td>1</td>\n",
       "      <td>Gabriel Mesquita</td>\n",
       "      <td>21910</td>\n",
       "      <td>10955.0</td>\n",
       "      <td>4382.0</td>\n",
       "      <td>242</td>\n",
       "      <td>719.04</td>\n",
       "      <td>Operações</td>\n",
       "    </tr>\n",
       "    <tr>\n",
       "      <th>1</th>\n",
       "      <td>2</td>\n",
       "      <td>João Haddad</td>\n",
       "      <td>5404</td>\n",
       "      <td>2702.0</td>\n",
       "      <td>1080.8</td>\n",
       "      <td>154</td>\n",
       "      <td>574.56</td>\n",
       "      <td>Logística</td>\n",
       "    </tr>\n",
       "    <tr>\n",
       "      <th>2</th>\n",
       "      <td>3</td>\n",
       "      <td>Amanda Marques Ribeiro</td>\n",
       "      <td>16066</td>\n",
       "      <td>8033.0</td>\n",
       "      <td>3213.2</td>\n",
       "      <td>154</td>\n",
       "      <td>729.12</td>\n",
       "      <td>Administrativo</td>\n",
       "    </tr>\n",
       "    <tr>\n",
       "      <th>3</th>\n",
       "      <td>4</td>\n",
       "      <td>Guilherme Nunez</td>\n",
       "      <td>21305</td>\n",
       "      <td>10652.5</td>\n",
       "      <td>4261.0</td>\n",
       "      <td>220</td>\n",
       "      <td>524.16</td>\n",
       "      <td>Administrativo</td>\n",
       "    </tr>\n",
       "    <tr>\n",
       "      <th>4</th>\n",
       "      <td>5</td>\n",
       "      <td>Adelino Gomes</td>\n",
       "      <td>5098</td>\n",
       "      <td>2549.0</td>\n",
       "      <td>1019.6</td>\n",
       "      <td>176</td>\n",
       "      <td>725.76</td>\n",
       "      <td>Administrativo</td>\n",
       "    </tr>\n",
       "  </tbody>\n",
       "</table>\n",
       "</div>"
      ],
      "text/plain": [
       "   ID Funcionário           Nome Completo  Salario Base  Impostos  Beneficios  \\\n",
       "0               1        Gabriel Mesquita         21910   10955.0      4382.0   \n",
       "1               2             João Haddad          5404    2702.0      1080.8   \n",
       "2               3  Amanda Marques Ribeiro         16066    8033.0      3213.2   \n",
       "3               4         Guilherme Nunez         21305   10652.5      4261.0   \n",
       "4               5           Adelino Gomes          5098    2549.0      1019.6   \n",
       "\n",
       "    VT      VR            Area  \n",
       "0  242  719.04       Operações  \n",
       "1  154  574.56       Logística  \n",
       "2  154  729.12  Administrativo  \n",
       "3  220  524.16  Administrativo  \n",
       "4  176  725.76  Administrativo  "
      ]
     },
     "metadata": {},
     "output_type": "display_data"
    },
    {
     "data": {
      "text/html": [
       "<div>\n",
       "<style scoped>\n",
       "    .dataframe tbody tr th:only-of-type {\n",
       "        vertical-align: middle;\n",
       "    }\n",
       "\n",
       "    .dataframe tbody tr th {\n",
       "        vertical-align: top;\n",
       "    }\n",
       "\n",
       "    .dataframe thead th {\n",
       "        text-align: right;\n",
       "    }\n",
       "</style>\n",
       "<table border=\"1\" class=\"dataframe\">\n",
       "  <thead>\n",
       "    <tr style=\"text-align: right;\">\n",
       "      <th></th>\n",
       "      <th>ID Cliente</th>\n",
       "      <th>Cliente</th>\n",
       "      <th>Valor Contrato Mensal</th>\n",
       "    </tr>\n",
       "  </thead>\n",
       "  <tbody>\n",
       "    <tr>\n",
       "      <th>0</th>\n",
       "      <td>1</td>\n",
       "      <td>Teixeira Gonçalves</td>\n",
       "      <td>540</td>\n",
       "    </tr>\n",
       "    <tr>\n",
       "      <th>1</th>\n",
       "      <td>2</td>\n",
       "      <td>Souza Santos</td>\n",
       "      <td>1260</td>\n",
       "    </tr>\n",
       "    <tr>\n",
       "      <th>2</th>\n",
       "      <td>3</td>\n",
       "      <td>Emídio Alves</td>\n",
       "      <td>3195</td>\n",
       "    </tr>\n",
       "    <tr>\n",
       "      <th>3</th>\n",
       "      <td>4</td>\n",
       "      <td>Santos Costa</td>\n",
       "      <td>2520</td>\n",
       "    </tr>\n",
       "    <tr>\n",
       "      <th>4</th>\n",
       "      <td>5</td>\n",
       "      <td>Do Monteiro</td>\n",
       "      <td>3510</td>\n",
       "    </tr>\n",
       "  </tbody>\n",
       "</table>\n",
       "</div>"
      ],
      "text/plain": [
       "   ID Cliente             Cliente  Valor Contrato Mensal\n",
       "0           1  Teixeira Gonçalves                    540\n",
       "1           2        Souza Santos                   1260\n",
       "2           3        Emídio Alves                   3195\n",
       "3           4        Santos Costa                   2520\n",
       "4           5         Do Monteiro                   3510"
      ]
     },
     "metadata": {},
     "output_type": "display_data"
    },
    {
     "data": {
      "text/html": [
       "<div>\n",
       "<style scoped>\n",
       "    .dataframe tbody tr th:only-of-type {\n",
       "        vertical-align: middle;\n",
       "    }\n",
       "\n",
       "    .dataframe tbody tr th {\n",
       "        vertical-align: top;\n",
       "    }\n",
       "\n",
       "    .dataframe thead th {\n",
       "        text-align: right;\n",
       "    }\n",
       "</style>\n",
       "<table border=\"1\" class=\"dataframe\">\n",
       "  <thead>\n",
       "    <tr style=\"text-align: right;\">\n",
       "      <th></th>\n",
       "      <th>Codigo do Servico</th>\n",
       "      <th>ID Funcionário</th>\n",
       "      <th>ID Cliente</th>\n",
       "      <th>Tempo Total de Contrato (Meses)</th>\n",
       "    </tr>\n",
       "  </thead>\n",
       "  <tbody>\n",
       "    <tr>\n",
       "      <th>0</th>\n",
       "      <td>OS0001</td>\n",
       "      <td>67</td>\n",
       "      <td>1</td>\n",
       "      <td>14</td>\n",
       "    </tr>\n",
       "    <tr>\n",
       "      <th>1</th>\n",
       "      <td>OS0002</td>\n",
       "      <td>17</td>\n",
       "      <td>2</td>\n",
       "      <td>12</td>\n",
       "    </tr>\n",
       "    <tr>\n",
       "      <th>2</th>\n",
       "      <td>OS0003</td>\n",
       "      <td>116</td>\n",
       "      <td>4</td>\n",
       "      <td>14</td>\n",
       "    </tr>\n",
       "    <tr>\n",
       "      <th>3</th>\n",
       "      <td>OS0004</td>\n",
       "      <td>37</td>\n",
       "      <td>5</td>\n",
       "      <td>8</td>\n",
       "    </tr>\n",
       "    <tr>\n",
       "      <th>4</th>\n",
       "      <td>OS0005</td>\n",
       "      <td>130</td>\n",
       "      <td>6</td>\n",
       "      <td>8</td>\n",
       "    </tr>\n",
       "  </tbody>\n",
       "</table>\n",
       "</div>"
      ],
      "text/plain": [
       "  Codigo do Servico  ID Funcionário  ID Cliente  \\\n",
       "0            OS0001              67           1   \n",
       "1            OS0002              17           2   \n",
       "2            OS0003             116           4   \n",
       "3            OS0004              37           5   \n",
       "4            OS0005             130           6   \n",
       "\n",
       "   Tempo Total de Contrato (Meses)  \n",
       "0                               14  \n",
       "1                               12  \n",
       "2                               14  \n",
       "3                                8  \n",
       "4                                8  "
      ]
     },
     "metadata": {},
     "output_type": "display_data"
    }
   ],
   "source": [
    "# 1 - Importando módulos e arquivos\n",
    "import pandas as pd\n",
    "import matplotlib.pyplot as plt\n",
    "\n",
    "# Lendo arquivos\n",
    "funcionarios_df = pd.read_csv('CadastroFuncionarios.csv', sep=';', decimal=',')\n",
    "clientes_df = pd.read_csv('CadastroClientes.csv', sep=';', decimal=',')\n",
    "servicos_df = pd.read_excel('BaseServicosPrestados.xlsx')\n",
    "\n",
    "# Removendo colunas irrelevantes\n",
    "funcionarios_df = funcionarios_df.drop(['Estado Civil', 'Cargo'], axis=1)\n",
    "\n",
    "# Visualização inicial\n",
    "display(funcionarios_df.head())\n",
    "display(clientes_df.head())\n",
    "display(servicos_df.head())\n"
   ]
  },
  {
   "cell_type": "code",
   "execution_count": 2,
   "id": "52bd6d8f",
   "metadata": {},
   "outputs": [
    {
     "name": "stdout",
     "output_type": "stream",
     "text": [
      "Total de folha salarial é de R$2,717,493.22\n"
     ]
    }
   ],
   "source": [
    "# 2 - Análise da Folha Salarial\n",
    "# Calculando salário total considerando todos os custos da empresa com o funcionário\n",
    "funcionarios_df['Salario Total'] = (\n",
    "    funcionarios_df['Salario Base'] +\n",
    "    funcionarios_df['Impostos'] +\n",
    "    funcionarios_df['Beneficios'] +\n",
    "    funcionarios_df['VT'] +\n",
    "    funcionarios_df['VR']\n",
    ")\n",
    "\n",
    "print('Total de folha salarial é de R${:,}'.format(sum(funcionarios_df['Salario Total'])))\n"
   ]
  },
  {
   "cell_type": "code",
   "execution_count": 3,
   "id": "fbf20415",
   "metadata": {},
   "outputs": [
    {
     "name": "stdout",
     "output_type": "stream",
     "text": [
      "Faturamento foi de R$5,519,160\n"
     ]
    }
   ],
   "source": [
    "# 3 - Faturamento Total da Empresa\n",
    "# Unindo clientes e serviços para calcular faturamento\n",
    "faturamento_df = servicos_df[['ID Cliente', 'Tempo Total de Contrato (Meses)']].merge(\n",
    "    clientes_df[['ID Cliente', 'Valor Contrato Mensal']], on='ID Cliente')\n",
    "\n",
    "faturamento_total = sum(faturamento_df['Tempo Total de Contrato (Meses)'] * faturamento_df['Valor Contrato Mensal'])\n",
    "print('Faturamento foi de R${:,}'.format(faturamento_total))\n"
   ]
  },
  {
   "cell_type": "code",
   "execution_count": 4,
   "id": "900189fe",
   "metadata": {},
   "outputs": [
    {
     "name": "stdout",
     "output_type": "stream",
     "text": [
      "Percentual foi de 86.84%\n"
     ]
    }
   ],
   "source": [
    "# 4 - Percentual de Funcionários que Fecharam Contrato\n",
    "qtde_funcionarios_fecharam = len(servicos_df['ID Funcionário'].unique())\n",
    "qtde_funcionarios_totais = len(funcionarios_df['ID Funcionário'])\n",
    "\n",
    "percentual = qtde_funcionarios_fecharam / qtde_funcionarios_totais\n",
    "print('Percentual foi de {:.2%}'.format(percentual))\n"
   ]
  },
  {
   "cell_type": "code",
   "execution_count": 13,
   "id": "6fc52a66",
   "metadata": {},
   "outputs": [
    {
     "name": "stdout",
     "output_type": "stream",
     "text": [
      "Area\n",
      "Administrativo    63\n",
      "Comercial         44\n",
      "Financeiro        42\n",
      "Logística         40\n",
      "Operações         48\n",
      "dtype: int64\n"
     ]
    },
    {
     "data": {
      "image/png": "[encoded data removed]",
      "text/plain": [
       "<Figure size 800x500 with 1 Axes>"
      ]
     },
     "metadata": {},
     "output_type": "display_data"
    }
   ],
   "source": [
    "# 5 - Total de Contratos Fechados por Área\n",
    "servicos_fechados_por_area = servicos_df[['ID Funcionário']].merge(\n",
    "    funcionarios_df[['ID Funcionário', 'Area']], on='ID Funcionário')\n",
    "\n",
    "total_contratos_por_area = servicos_fechados_por_area.groupby('Area').size()\n",
    "print(total_contratos_por_area)\n",
    "\n",
    "# Visualização\n",
    "plt.figure(figsize=(8, 5))\n",
    "total_contratos_por_area.plot(kind='bar', color='skyblue')\n",
    "plt.title('Total de Contratos por Área')\n",
    "plt.xlabel('Área')\n",
    "plt.ylabel('Quantidade de Contratos')\n",
    "plt.xticks(rotation=45)\n",
    "plt.grid(axis='y', linestyle='--', alpha=0.7)\n",
    "plt.tight_layout()\n",
    "plt.show()\n"
   ]
  },
  {
   "cell_type": "code",
   "execution_count": 11,
   "id": "34318415",
   "metadata": {},
   "outputs": [
    {
     "name": "stdout",
     "output_type": "stream",
     "text": [
      "Area\n",
      "Administrativo    26\n",
      "Comercial         26\n",
      "Operações         23\n",
      "Logística         21\n",
      "Financeiro        18\n",
      "Name: count, dtype: int64\n"
     ]
    },
    {
     "data": {
      "image/png": "[encoded data removed]",
      "text/plain": [
       "<Figure size 800x500 with 1 Axes>"
      ]
     },
     "metadata": {},
     "output_type": "display_data"
    }
   ],
   "source": [
    "# 6 - Total de Funcionários por Área\n",
    "qtde_funcionarios_area = funcionarios_df['Area'].value_counts()\n",
    "print(qtde_funcionarios_area)\n",
    "\n",
    "# Visualização\n",
    "plt.figure(figsize=(8, 5))\n",
    "qtde_funcionarios_area.plot(kind='bar', color='lightgreen')\n",
    "plt.title('Quantidade de Funcionários por Área')\n",
    "plt.xlabel('Área')\n",
    "plt.ylabel('Quantidade')\n",
    "plt.xticks(rotation=45)\n",
    "plt.grid(axis='y', linestyle='--', alpha=0.7)\n",
    "plt.tight_layout()\n",
    "plt.show()\n"
   ]
  },
  {
   "cell_type": "code",
   "execution_count": 7,
   "id": "6ed677cc",
   "metadata": {},
   "outputs": [
    {
     "name": "stdout",
     "output_type": "stream",
     "text": [
      "O ticket médio mensal é de R$2,502.56\n"
     ]
    }
   ],
   "source": [
    "# 7 - Ticket Médio Mensal\n",
    "ticket_medio = clientes_df['Valor Contrato Mensal'].mean()\n",
    "print('O ticket médio mensal é de R${:,.2f}'.format(ticket_medio))\n"
   ]
  },
  {
   "cell_type": "markdown",
   "id": "4ae00969",
   "metadata": {},
   "source": [
    "# ✅ Conclusão\n",
    "\n",
    "A análise permitiu extrair informações valiosas que podem orientar decisões estratégicas da empresa. Entre os insights mais relevantes:\n",
    "\n",
    "- **Alto engajamento dos funcionários**: mais de 86% dos colaboradores participaram do fechamento de contratos.\n",
    "- **Concentração de contratos em determinadas áreas**, o que pode indicar especialização ou necessidade de redistribuição.\n",
    "- **Faturamento total significativo**, com ticket médio mensal acima de R$2,500,00.\n",
    "\n",
    "Este projeto reforça habilidades de:\n",
    "\n",
    "- Manipulação de dados com `pandas`\n",
    "- Integração de múltiplas fontes de dados\n",
    "- Cálculo de indicadores de negócio\n",
    "- Comunicação de resultados via código limpo e visualizações\n",
    "\n",
    "O notebook está estruturado para facilitar leitura e compreensão por recrutadores e profissionais técnicos.\n"
   ]
  }
 ],
 "metadata": {
  "kernelspec": {
   "display_name": "Python 3 (ipykernel)",
   "language": "python",
   "name": "python3"
  },
  "language_info": {
   "codemirror_mode": {
    "name": "ipython",
    "version": 3
   },
   "file_extension": ".py",
   "mimetype": "text/x-python",
   "name": "python",
   "nbconvert_exporter": "python",
   "pygments_lexer": "ipython3",
   "version": "3.11.7"
  }
 },
 "nbformat": 4,
 "nbformat_minor": 5
}
